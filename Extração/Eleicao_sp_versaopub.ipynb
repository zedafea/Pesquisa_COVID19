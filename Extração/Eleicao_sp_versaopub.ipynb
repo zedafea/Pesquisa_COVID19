{
 "cells": [
  {
   "cell_type": "code",
   "execution_count": null,
   "metadata": {},
   "outputs": [],
   "source": [
    "#Importando a biblioteca que será usada\n",
    "import pandas as pd"
   ]
  },
  {
   "cell_type": "code",
   "execution_count": null,
   "metadata": {},
   "outputs": [],
   "source": [
    "#Importação dos dados das eleições municipais de 2020 no estado de SP. Site TSE\n",
    "elc_sp = pd.read_csv('consulta_cand_2020_SP.csv',sep=';',encoding='latin1')"
   ]
  },
  {
   "cell_type": "code",
   "execution_count": null,
   "metadata": {},
   "outputs": [],
   "source": [
    "#Filtragem para um df secundário, considerando só os candidatos que estavam disponíveis para receber votos\n",
    "t = elc_sp[elc_sp['ST_CANDIDATO_INSERIDO_URNA']=='SIM']"
   ]
  },
  {
   "cell_type": "code",
   "execution_count": null,
   "metadata": {},
   "outputs": [],
   "source": [
    "#Filtragem para considerarmos a prefeitos candidatos a reeleição\n",
    "t = t[(t['DS_CARGO']=='PREFEITO')&(t['ST_REELEICAO']=='S')]"
   ]
  },
  {
   "cell_type": "code",
   "execution_count": null,
   "metadata": {},
   "outputs": [],
   "source": [
    "#Análises exploratórias\n",
    "t['DS_SITUACAO_CANDIDATURA'].unique()\n",
    "t['DS_DETALHE_SITUACAO_CAND'].value_counts()\n",
    "t['DS_SITUACAO_CANDIDATO_URNA'].value_counts()"
   ]
  },
  {
   "cell_type": "code",
   "execution_count": null,
   "metadata": {},
   "outputs": [],
   "source": [
    "#Filtragem do df principal selecionando só as colunas que nos interessa\n",
    "elc_sp = elc_sp[['CD_TIPO_ELEICAO','NR_TURNO','NM_UE','DS_CARGO','SQ_CANDIDATO','ST_CANDIDATO_INSERIDO_URNA','ST_REELEICAO']]"
   ]
  },
  {
   "cell_type": "code",
   "execution_count": null,
   "metadata": {},
   "outputs": [],
   "source": [
    "#Filtragem para candidatos ao cargo de prefeito\n",
    "elc_sp = elc_sp[elc_sp['DS_CARGO']=='PREFEITO']"
   ]
  },
  {
   "cell_type": "code",
   "execution_count": null,
   "metadata": {},
   "outputs": [],
   "source": [
    "#Tamanho da amostra\n",
    "elc_sp.groupby(['ST_REELEICAO','DS_SITUACAO_CANDIDATURA']).count()"
   ]
  },
  {
   "cell_type": "code",
   "execution_count": null,
   "metadata": {},
   "outputs": [],
   "source": [
    "#Substituição de 'S' por 1 e 'N' por 0\n",
    "elc_sp.loc[elc_sp['ST_REELEICAO'] == 'S','ST_REELEICAO'] = 1\n",
    "elc_sp.loc[elc_sp['ST_REELEICAO'] == 'N','ST_REELEICAO'] = 0"
   ]
  },
  {
   "cell_type": "code",
   "execution_count": null,
   "metadata": {},
   "outputs": [],
   "source": [
    "#Filtragem para considerarmos somente a eleição em primeiro turno\n",
    "elc_sp = elc_sp[elc_sp['NR_TURNO']==1]"
   ]
  },
  {
   "cell_type": "code",
   "execution_count": null,
   "metadata": {},
   "outputs": [],
   "source": [
    "#Filtragem para considerarmos somente eleições do tipo 2, ordinárias. Fonte: TSE\n",
    "elc_sp = elc_sp[elc_sp['CD_TIPO_ELEICAO']==2]"
   ]
  },
  {
   "cell_type": "code",
   "execution_count": null,
   "metadata": {},
   "outputs": [],
   "source": [
    "#Testes de validades dos filtros aplicados nos dados\n",
    "elc_sp[(elc_sp['NR_TURNO']==2)|(elc_sp['CD_TIPO_ELEICAO']!=2)|(elc_sp['DS_CARGO']!='PREFEITO')]"
   ]
  },
  {
   "cell_type": "code",
   "execution_count": null,
   "metadata": {},
   "outputs": [],
   "source": [
    "#Filtragem de candidatos inseridos na urna (possibilidade de receberem votos) e criando um novo df\n",
    "D = elc_sp[elc_sp['ST_CANDIDATO_INSERIDO_URNA']=='SIM']"
   ]
  },
  {
   "cell_type": "code",
   "execution_count": null,
   "metadata": {},
   "outputs": [],
   "source": [
    "#Agrupando por município e se é candidato a reeleição, contando o n e resetando o index \n",
    "D = elc_sp.groupby(['NM_UE','ST_REELEICAO']).count().reset_index()[['NM_UE','ST_REELEICAO']]"
   ]
  },
  {
   "cell_type": "code",
   "execution_count": null,
   "metadata": {},
   "outputs": [],
   "source": [
    "#Agrupando por município \n",
    "D = D.groupby('NM_UE').sum().reset_index()"
   ]
  },
  {
   "cell_type": "code",
   "execution_count": null,
   "metadata": {},
   "outputs": [],
   "source": [
    "#Conferindo a validade das manipulações, valores esperados: 0 e 1\n",
    "D['ST_REELEICAO'].value_counts()"
   ]
  },
  {
   "cell_type": "code",
   "execution_count": null,
   "metadata": {},
   "outputs": [],
   "source": [
    "#Exportando para csv um df com cada município de SP e a informação de que se havia ou não prefeito candidato a reeleição\n",
    "D.to_csv('consulta_cand_reeleicao_2020_SP.csv',sep=';',encoding='latin1')"
   ]
  }
 ],
 "metadata": {
  "kernelspec": {
   "display_name": "Python 3",
   "language": "python",
   "name": "python3"
  },
  "language_info": {
   "codemirror_mode": {
    "name": "ipython",
    "version": 3
   },
   "file_extension": ".py",
   "mimetype": "text/x-python",
   "name": "python",
   "nbconvert_exporter": "python",
   "pygments_lexer": "ipython3",
   "version": "3.8.5"
  }
 },
 "nbformat": 4,
 "nbformat_minor": 4
}
